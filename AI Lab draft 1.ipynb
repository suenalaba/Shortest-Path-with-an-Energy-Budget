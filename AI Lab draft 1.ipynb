{
 "cells": [
  {
   "cell_type": "code",
   "execution_count": 1,
   "id": "a80e056e",
   "metadata": {},
   "outputs": [],
   "source": [
    "import json\n",
    "import numpy as np\n",
    "import heapq\n",
    "import math"
   ]
  },
  {
   "cell_type": "code",
   "execution_count": 2,
   "id": "90275035",
   "metadata": {},
   "outputs": [],
   "source": [
    "# Downloading JSON files\n",
    "with open('Coord.json') as json_file:\n",
    "    coord = json.load(json_file)\n",
    "with open('Cost.json') as json_file:\n",
    "    cost = json.load(json_file)\n",
    "with open('Dist.json') as json_file:\n",
    "    dist = json.load(json_file)\n",
    "with open('G.json') as json_file:\n",
    "    g = json.load(json_file)"
   ]
  },
  {
   "cell_type": "code",
   "execution_count": 3,
   "id": "9db1dbae",
   "metadata": {},
   "outputs": [
    {
     "data": {
      "text/plain": [
       "264346"
      ]
     },
     "execution_count": 3,
     "metadata": {},
     "output_type": "execute_result"
    }
   ],
   "source": [
    "len(g)"
   ]
  },
  {
   "cell_type": "code",
   "execution_count": 4,
   "id": "b3d84427",
   "metadata": {},
   "outputs": [],
   "source": [
    "#Initializing start and end\n",
    "START=\"1\"\n",
    "END=\"50\""
   ]
  },
  {
   "cell_type": "markdown",
   "id": "f9831c47",
   "metadata": {},
   "source": [
    "# Task 1: Use any algorithmn without the energy constraint"
   ]
  },
  {
   "cell_type": "code",
   "execution_count": 5,
   "id": "93fc91b9",
   "metadata": {},
   "outputs": [],
   "source": [
    "#Can ignore Cost and just focus on Dist\n",
    "#Since solution quality matters, probably should use an informed search algorithm\n",
    "\n",
    "#A simple heuristic function will be to find the distance of coord to end goal using pythagores\n",
    "\n",
    "#Another way to make it more complex is to multiple that distance with the estimated cost of moving\n",
    "#that distance using its neighbours as reference\n",
    "\n",
    "#https://stackoverflow.com/questions/22898122/heuristic-function-for-shortest-path\n",
    "#https://python.plainenglish.io/uniform-cost-search-ucs-algorithm-in-python-ec3ee03fca9f"
   ]
  },
  {
   "cell_type": "code",
   "execution_count": 6,
   "id": "22481c5a",
   "metadata": {},
   "outputs": [],
   "source": [
    "class Node:\n",
    "    def __init__(self,index,parent):\n",
    "        self.index= index\n",
    "        self.coords=coord[index]\n",
    "        self.neighbours=g[index]\n",
    "        self.heuristic=np.inf\n",
    "        self.parent = parent\n",
    "        if parent != None:\n",
    "            self.calcHeuristic(self.parent)\n",
    "        else:\n",
    "            self.distance=0\n",
    "        self.explored=False\n",
    "    \n",
    "    def __gt__(self,other):\n",
    "        if isinstance(other,Node):\n",
    "            if self.heuristic>other.heuristic:\n",
    "                return True\n",
    "            if self.heuristic<other.heuristic:\n",
    "                return False\n",
    "            return self.index>other.index #Rank by index if same heuristic\n",
    "        \n",
    "    def explore(self):\n",
    "        self.explored=True\n",
    "        if self.parent==None:\n",
    "            self.path=self.index\n",
    "            self.pathLength=1\n",
    "        else:\n",
    "            self.path=self.parent.getPath() + \",\" + self.index\n",
    "            self.pathLength=self.parent.getPathLength()+1\n",
    "    \n",
    "    def getCoords(self):\n",
    "        return coord[index]\n",
    "\n",
    "    def getNeighbours(self):\n",
    "        return self.neighbours\n",
    "    \n",
    "    def calcHeuristic(self,parent):\n",
    "        parentIndex=parent.getIndex()\n",
    "        distanceFromStart=parent.getDistance()+dist[self.index+\",\"+parentIndex]\n",
    "        if(len(self.neighbours)==1):\n",
    "            return False\n",
    "        x2=self.coords[0]-coord[END][0]\n",
    "        y2=self.coords[1]-coord[END][1]\n",
    "        distanceFromEnd=math.sqrt(x2**2+y2**2)\n",
    "        heuristic=distanceFromStart+distanceFromEnd\n",
    "        if(heuristic>self.heuristic):\n",
    "            return False\n",
    "        else:\n",
    "            self.heuristic=heuristic\n",
    "            self.setParent(parent)\n",
    "            self.distance=distanceFromStart\n",
    "            return True\n",
    "\n",
    "    def getPath(self):\n",
    "        return self.path\n",
    "    \n",
    "    def getPathLength(self):\n",
    "        return self.pathLength\n",
    "    \n",
    "    def setParent(self,parent):\n",
    "        self.parent=parent\n",
    "    \n",
    "    def getDistance(self):\n",
    "        return self.distance\n",
    "    \n",
    "    def getIndex(self):\n",
    "        return self.index"
   ]
  },
  {
   "cell_type": "code",
   "execution_count": 7,
   "id": "9b7c3738",
   "metadata": {},
   "outputs": [],
   "source": [
    "def search():\n",
    "    start= Node(START,None)\n",
    "    pq=[start]\n",
    "    dictOfNodes=dict()\n",
    "    dictOfNodes[start.index]=start\n",
    "    nodesExplored=0\n",
    "    while len(pq) > 0:\n",
    "        nextExplore=heapq.heappop(pq)\n",
    "        nextExplore.explore()\n",
    "        nodesExplored+=1\n",
    "        if nextExplore.index==END:\n",
    "            print(\"Nodes explored: \",nodesExplored)\n",
    "            return nextExplore.getPath(),nextExplore.getPathLength(),nextExplore.getDistance()\n",
    "        new_nodes=nextExplore.getNeighbours()\n",
    "        if len(new_nodes)>1:\n",
    "            for new_node in new_nodes:\n",
    "                if new_node in dictOfNodes:\n",
    "                    tempNode=dictOfNodes.get(new_node)\n",
    "                    if(tempNode.explored==False):\n",
    "                        tempNode.calcHeuristic(nextExplore)\n",
    "                else:\n",
    "                    temp= Node(new_node,nextExplore)\n",
    "                    dictOfNodes[temp.index]=temp\n",
    "                    heapq.heappush(pq, temp)\n",
    "    return \"No path found\""
   ]
  },
  {
   "cell_type": "code",
   "execution_count": 8,
   "id": "a50e82ad",
   "metadata": {},
   "outputs": [
    {
     "name": "stdout",
     "output_type": "stream",
     "text": [
      "Nodes explored:  968\n"
     ]
    }
   ],
   "source": [
    "path,length,distance=search()"
   ]
  },
  {
   "cell_type": "code",
   "execution_count": 9,
   "id": "1d405d4e",
   "metadata": {},
   "outputs": [
    {
     "name": "stdout",
     "output_type": "stream",
     "text": [
      "1,1363,1358,1357,1356,1276,1273,1277,1269,1267,1268,1284,1283,1282,1255,1253,1260,1259,1249,1246,963,964,962,1002,952,1000,998,994,995,996,987,986,979,980,969,977,989,990,991,2369,2366,2340,2338,2339,2333,2334,2329,2029,2027,2019,2022,2000,1996,1997,1993,1992,1989,1984,2001,1900,1875,1874,1965,1963,1964,1923,1944,1945,1938,1937,1939,1935,1931,1934,1673,1675,1674,1837,1671,1828,1825,1817,1815,1634,1814,1813,1632,1631,1742,1741,1740,1739,1591,1689,1585,1584,1688,1579,1679,1677,104,5680,5418,5431,5425,5424,5422,5413,5412,5411,66,5392,5391,5388,5291,5278,5289,5290,5283,5284,5280,50\n"
     ]
    }
   ],
   "source": [
    "print(path)"
   ]
  },
  {
   "cell_type": "code",
   "execution_count": 10,
   "id": "5a32c8c1",
   "metadata": {},
   "outputs": [
    {
     "data": {
      "text/plain": [
       "122"
      ]
     },
     "execution_count": 10,
     "metadata": {},
     "output_type": "execute_result"
    }
   ],
   "source": [
    "temp=path.split(\",\")\n",
    "len(temp)"
   ]
  },
  {
   "cell_type": "code",
   "execution_count": 11,
   "id": "d3896f18",
   "metadata": {},
   "outputs": [
    {
     "name": "stdout",
     "output_type": "stream",
     "text": [
      "122\n"
     ]
    }
   ],
   "source": [
    "print(length)"
   ]
  },
  {
   "cell_type": "code",
   "execution_count": 12,
   "id": "1500551b",
   "metadata": {},
   "outputs": [
    {
     "name": "stdout",
     "output_type": "stream",
     "text": [
      "148648.63722140007\n"
     ]
    }
   ],
   "source": [
    "print(distance)"
   ]
  },
  {
   "cell_type": "markdown",
   "id": "e2f9479b",
   "metadata": {},
   "source": [
    "# Task 2: Uninformed search algorithm taking into account the energy budget"
   ]
  },
  {
   "cell_type": "code",
   "execution_count": 13,
   "id": "edb40374",
   "metadata": {},
   "outputs": [],
   "source": [
    "ENERGY_BUDGET=287932"
   ]
  },
  {
   "cell_type": "code",
   "execution_count": 14,
   "id": "326b2da2",
   "metadata": {},
   "outputs": [],
   "source": [
    "class Node2:\n",
    "    def __init__(self,index,parent):\n",
    "        self.index= index\n",
    "        self.coords=coord[index]\n",
    "        self.neighbours=g[index]\n",
    "        self.distance=np.inf\n",
    "        self.heuristic=np.inf\n",
    "        self.cost=np.inf\n",
    "        self.parent = parent\n",
    "        if parent != None:\n",
    "            self.calcHeuristic(self.parent)\n",
    "        else:\n",
    "            self.distance=0\n",
    "            self.cost=0\n",
    "        self.explored=False\n",
    "    \n",
    "    def __gt__(self,other):\n",
    "        if isinstance(other,Node2):\n",
    "            if self.heuristic>other.heuristic:\n",
    "                return True\n",
    "            if self.heuristic<other.heuristic:\n",
    "                return False\n",
    "            return self.cost>other.cost #Rank by index if same heuristic\n",
    "        \n",
    "    def explore(self):\n",
    "        self.explored=True\n",
    "        if self.parent==None:\n",
    "            self.path=self.index\n",
    "            self.pathLength=1\n",
    "        else:\n",
    "            self.path=self.parent.getPath() + \",\" + self.index\n",
    "            self.pathLength=self.parent.getPathLength()+1\n",
    "    \n",
    "    def getCoords(self):\n",
    "        return coord[index]\n",
    "\n",
    "    def getNeighbours(self):\n",
    "        return self.neighbours\n",
    "    \n",
    "    def calcHeuristic(self,parent):\n",
    "        parentIndex=parent.getIndex()\n",
    "        distanceFromStart=parent.getDistance()+dist[self.index+\",\"+parentIndex]\n",
    "        if(len(self.neighbours)==1):\n",
    "            return False\n",
    "        total_cost=parent.getCost()+ cost[self.index+\",\"+parent.getIndex()]\n",
    "        heuristic=distanceFromStart+total_cost*0.5\n",
    "        if(distanceFromStart<self.distance):\n",
    "            self.heuristic=heuristic\n",
    "            self.setParent(parent)\n",
    "            self.distance=distanceFromStart\n",
    "            self.cost= total_cost\n",
    "            return True\n",
    "        else:\n",
    "            return False\n",
    "        \n",
    "    def checkCost(self,parent):\n",
    "        return (parent.getCost()+ cost[self.index+\",\"+parent.getIndex()]) <= ENERGY_BUDGET\n",
    "\n",
    "    def getPath(self):\n",
    "        return self.path\n",
    "    \n",
    "    def getCost(self):\n",
    "        return self.cost\n",
    "    \n",
    "    def getPathLength(self):\n",
    "        return self.pathLength\n",
    "    \n",
    "    def setParent(self,parent):\n",
    "        self.parent=parent\n",
    "    \n",
    "    def getDistance(self):\n",
    "        return self.distance\n",
    "    \n",
    "    def getIndex(self):\n",
    "        return self.index"
   ]
  },
  {
   "cell_type": "code",
   "execution_count": 15,
   "id": "da4df70b",
   "metadata": {},
   "outputs": [],
   "source": [
    "def search2():\n",
    "    start= Node2(START,None)\n",
    "    pq=[start]\n",
    "    dictOfNodes=dict()\n",
    "    dictOfNodes[start.index]=start\n",
    "    nodesExplored=0\n",
    "    while len(pq) > 0:\n",
    "        nextExplore=heapq.heappop(pq)\n",
    "        nextExplore.explore()\n",
    "        nodesExplored+=1\n",
    "        if nextExplore.index==END:\n",
    "            print(\"Nodes explored: \",nodesExplored)\n",
    "            return nextExplore.getPath(),nextExplore.getPathLength(),nextExplore.getDistance(),nextExplore.getCost()\n",
    "        new_nodes=nextExplore.getNeighbours()\n",
    "        if len(new_nodes)>1:\n",
    "            for new_node in new_nodes:\n",
    "                if new_node in dictOfNodes:\n",
    "                    tempNode=dictOfNodes.get(new_node)\n",
    "                    if(tempNode.checkCost(nextExplore)):\n",
    "                        tempNode.calcHeuristic(nextExplore)\n",
    "                else:\n",
    "                    temp= Node2(new_node,nextExplore)\n",
    "                    if(temp.checkCost(nextExplore)):\n",
    "                        dictOfNodes[temp.index]=temp\n",
    "                        heapq.heappush(pq, temp)\n",
    "    return \"No path found\""
   ]
  },
  {
   "cell_type": "code",
   "execution_count": 16,
   "id": "4432a9ae",
   "metadata": {},
   "outputs": [
    {
     "name": "stdout",
     "output_type": "stream",
     "text": [
      "Nodes explored:  4051\n"
     ]
    }
   ],
   "source": [
    "path,length,distance,totalcost=search2()"
   ]
  },
  {
   "cell_type": "code",
   "execution_count": 17,
   "id": "14782669",
   "metadata": {},
   "outputs": [
    {
     "data": {
      "text/plain": [
       "'1,1363,1358,1357,1356,1276,1273,1277,1269,1267,1268,1284,1283,1282,1255,1253,1260,1259,1249,1246,963,964,962,1002,952,1000,998,994,995,996,987,988,979,980,969,977,989,990,991,2465,2466,2384,2382,2385,2379,2380,2445,2444,2405,2406,2398,2395,2397,2142,2141,2125,2126,2082,2080,2071,1979,1975,1967,1966,1974,1973,1971,1970,1948,1937,1939,1935,1931,1934,1673,1675,1674,1837,1671,1828,1825,1817,1815,1634,1814,1813,1632,1631,1742,1741,1740,1739,1591,1689,1585,1584,1688,1579,1679,1677,104,5680,5418,5431,5425,5424,5422,5413,5412,5411,66,5392,5391,5388,5291,5278,5289,5290,5283,5284,5280,50'"
      ]
     },
     "execution_count": 17,
     "metadata": {},
     "output_type": "execute_result"
    }
   ],
   "source": [
    "path"
   ]
  },
  {
   "cell_type": "code",
   "execution_count": 18,
   "id": "b25543a6",
   "metadata": {},
   "outputs": [
    {
     "data": {
      "text/plain": [
       "122"
      ]
     },
     "execution_count": 18,
     "metadata": {},
     "output_type": "execute_result"
    }
   ],
   "source": [
    "length"
   ]
  },
  {
   "cell_type": "code",
   "execution_count": 19,
   "id": "5ce0c442",
   "metadata": {},
   "outputs": [
    {
     "data": {
      "text/plain": [
       "150335.55441905273"
      ]
     },
     "execution_count": 19,
     "metadata": {},
     "output_type": "execute_result"
    }
   ],
   "source": [
    "distance"
   ]
  },
  {
   "cell_type": "code",
   "execution_count": 20,
   "id": "7653c6a0",
   "metadata": {},
   "outputs": [
    {
     "data": {
      "text/plain": [
       "259087"
      ]
     },
     "execution_count": 20,
     "metadata": {},
     "output_type": "execute_result"
    }
   ],
   "source": [
    "totalcost"
   ]
  },
  {
   "cell_type": "markdown",
   "id": "8c7ec929",
   "metadata": {},
   "source": [
    "# Task 3: Informed search algorithm taking into account the energy budget"
   ]
  },
  {
   "cell_type": "code",
   "execution_count": 21,
   "id": "6b95e15e",
   "metadata": {},
   "outputs": [
    {
     "name": "stdout",
     "output_type": "stream",
     "text": [
      "0.8235294117647058\n"
     ]
    }
   ],
   "source": [
    "lowestCostPerDistance=np.inf\n",
    "for i in cost:\n",
    "    tempCost=cost[i]/dist[i]\n",
    "    if tempCost<lowestCostPerDistance:\n",
    "        lowestCostPerDistance=tempCost\n",
    "print(lowestCostPerDistance)"
   ]
  },
  {
   "cell_type": "code",
   "execution_count": 35,
   "id": "8728d380",
   "metadata": {},
   "outputs": [],
   "source": [
    "class Node3:\n",
    "    def __init__(self,index,parent):\n",
    "        self.index= index\n",
    "        self.coords=coord[index]\n",
    "        self.neighbours=g[index]\n",
    "        self.heuristic=np.inf\n",
    "        self.cost=np.inf\n",
    "        self.parent = parent\n",
    "        if parent != None:\n",
    "            self.calcHeuristic(self.parent)\n",
    "        else:\n",
    "            self.distance=0\n",
    "            self.cost=0\n",
    "        self.explored=False\n",
    "    \n",
    "    def __gt__(self,other):\n",
    "        if isinstance(other,Node3):\n",
    "            if self.heuristic>other.heuristic:\n",
    "                return True\n",
    "            if self.heuristic<other.heuristic:\n",
    "                return False\n",
    "            return self.cost>other.cost #Rank by index if same heuristic\n",
    "        \n",
    "    def explore(self):\n",
    "        self.explored=True\n",
    "        if self.parent==None:\n",
    "            self.path=self.index\n",
    "            self.pathLength=1\n",
    "        else:\n",
    "            self.path=self.parent.getPath() + \",\" + self.index\n",
    "            self.pathLength=self.parent.getPathLength()+1\n",
    "    \n",
    "    def getCoords(self):\n",
    "        return coord[index]\n",
    "\n",
    "    def getNeighbours(self):\n",
    "        return self.neighbours\n",
    "    \n",
    "    def calcHeuristic(self,parent):\n",
    "        parentIndex=parent.getIndex()\n",
    "        distanceFromStart=parent.getDistance()+dist[self.index+\",\"+parentIndex]\n",
    "        if(len(self.neighbours)==1):\n",
    "            return False\n",
    "        heuristic=distanceFromStart\n",
    "        x2=self.coords[0]-coord[END][0]\n",
    "        y2=self.coords[1]-coord[END][1]\n",
    "        distanceFromEnd=math.sqrt(x2**2+y2**2)\n",
    "        total_cost=parent.getCost()+ cost[self.index+\",\"+parent.getIndex()]\n",
    "        heuristic=distanceFromStart+distanceFromEnd+total_cost*0.05\n",
    "        if(heuristic>self.heuristic):\n",
    "            return False\n",
    "        else:\n",
    "            self.heuristic=heuristic\n",
    "            self.setParent(parent)\n",
    "            self.distance=distanceFromStart\n",
    "            self.cost= total_cost\n",
    "            return True\n",
    "        \n",
    "    def checkCost(self,parent):\n",
    "        x2=self.coords[0]-coord[END][0]\n",
    "        y2=self.coords[1]-coord[END][1]\n",
    "        distanceFromEnd=math.sqrt(x2**2+y2**2)\n",
    "        return (parent.getCost()+ cost[self.index+\",\"+parent.getIndex()] + distanceFromEnd*lowestCostPerDistance) <= ENERGY_BUDGET\n",
    "\n",
    "    def getPath(self):\n",
    "        return self.path\n",
    "    \n",
    "    def getCost(self):\n",
    "        return self.cost\n",
    "    \n",
    "    def getPathLength(self):\n",
    "        return self.pathLength\n",
    "    \n",
    "    def setParent(self,parent):\n",
    "        self.parent=parent\n",
    "    \n",
    "    def getDistance(self):\n",
    "        return self.distance\n",
    "    \n",
    "    def getIndex(self):\n",
    "        return self.index"
   ]
  },
  {
   "cell_type": "code",
   "execution_count": 51,
   "id": "392511f4",
   "metadata": {},
   "outputs": [],
   "source": [
    "def search3():\n",
    "    start= Node3(START,None)\n",
    "    pq=[start]\n",
    "    dictOfNodes=dict()\n",
    "    dictOfNodes[start.index]=start\n",
    "    nodesExplored=0\n",
    "    while len(pq) > 0:\n",
    "        nextExplore=heapq.heappop(pq)\n",
    "        nextExplore.explore()\n",
    "        nodesExplored+=1\n",
    "        if nextExplore.index==END:\n",
    "            print(\"Nodes explored: \",nodesExplored)\n",
    "            return nextExplore.getPath(),nextExplore.getPathLength(),nextExplore.getDistance(),nextExplore.getCost()\n",
    "        new_nodes=nextExplore.getNeighbours()\n",
    "        if len(new_nodes)>1:\n",
    "            for new_node in new_nodes:\n",
    "                if new_node in dictOfNodes:\n",
    "                    tempNode=dictOfNodes.get(new_node)\n",
    "                    if(tempNode.explored==False):\n",
    "                        if(tempNode.checkCost(nextExplore)):\n",
    "                            tempNode.calcHeuristic(nextExplore)\n",
    "                            heapq.heapify(pq)\n",
    "                else:\n",
    "                    temp= Node3(new_node,nextExplore)\n",
    "                    if(temp.checkCost(nextExplore)):\n",
    "                        dictOfNodes[temp.index]=temp\n",
    "                        heapq.heappush(pq, temp)\n",
    "    return \"No path found\""
   ]
  },
  {
   "cell_type": "code",
   "execution_count": 52,
   "id": "51404a36",
   "metadata": {},
   "outputs": [
    {
     "name": "stdout",
     "output_type": "stream",
     "text": [
      "Nodes explored:  1647\n"
     ]
    }
   ],
   "source": [
    "path,length,distance,totalcost=search3()"
   ]
  },
  {
   "cell_type": "code",
   "execution_count": 53,
   "id": "05927cb1",
   "metadata": {},
   "outputs": [
    {
     "data": {
      "text/plain": [
       "'1,1363,1358,1357,1356,1276,1273,1277,1269,1267,1268,1284,1283,1282,1255,1253,1260,1259,1249,1246,963,964,962,1002,952,1000,998,994,995,996,987,986,979,980,969,977,989,990,991,2465,2466,2384,2382,2385,2379,2380,2445,2444,2405,2406,2398,2395,2397,2142,2141,2125,2126,2082,2080,2071,1979,1975,1967,1966,1974,1973,1971,1970,1948,1937,1939,1935,1931,1934,1673,1675,1674,1837,1671,1828,1825,1817,1815,1634,1814,1813,1632,1631,1742,1741,1740,1739,1591,1689,1585,1584,1688,1579,1679,1677,104,5680,5418,5431,5425,5424,5422,5413,5412,5411,66,5392,5391,5388,5291,5278,5289,5290,5283,5284,5280,50'"
      ]
     },
     "execution_count": 53,
     "metadata": {},
     "output_type": "execute_result"
    }
   ],
   "source": [
    "path"
   ]
  },
  {
   "cell_type": "code",
   "execution_count": 54,
   "id": "9541a576",
   "metadata": {},
   "outputs": [
    {
     "data": {
      "text/plain": [
       "122"
      ]
     },
     "execution_count": 54,
     "metadata": {},
     "output_type": "execute_result"
    }
   ],
   "source": [
    "length"
   ]
  },
  {
   "cell_type": "code",
   "execution_count": 55,
   "id": "b89ccc4d",
   "metadata": {},
   "outputs": [
    {
     "data": {
      "text/plain": [
       "150335.55441905273"
      ]
     },
     "execution_count": 55,
     "metadata": {},
     "output_type": "execute_result"
    }
   ],
   "source": [
    "distance"
   ]
  },
  {
   "cell_type": "code",
   "execution_count": 56,
   "id": "b6256397",
   "metadata": {},
   "outputs": [
    {
     "data": {
      "text/plain": [
       "259087"
      ]
     },
     "execution_count": 56,
     "metadata": {},
     "output_type": "execute_result"
    }
   ],
   "source": [
    "totalcost"
   ]
  }
 ],
 "metadata": {
  "kernelspec": {
   "display_name": "Python 3 (ipykernel)",
   "language": "python",
   "name": "python3"
  },
  "language_info": {
   "codemirror_mode": {
    "name": "ipython",
    "version": 3
   },
   "file_extension": ".py",
   "mimetype": "text/x-python",
   "name": "python",
   "nbconvert_exporter": "python",
   "pygments_lexer": "ipython3",
   "version": "3.9.12"
  }
 },
 "nbformat": 4,
 "nbformat_minor": 5
}
